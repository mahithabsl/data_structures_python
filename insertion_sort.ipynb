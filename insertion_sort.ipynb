{
  "cells": [
    {
      "cell_type": "code",
      "source": [
        "def insertion_sort(l):\n",
        "  for i in range(1,len(l)):\n",
        "    j = i-1\n",
        "    key = l[i]\n",
        "    while j>=0 and key<l[j]:\n",
        "      l[j+1] = l[j]\n",
        "      j = j-1\n",
        "    l[j+1] = key\n",
        "  return l\n",
        "\n"
      ],
      "metadata": {
        "id": "OlDd2j3I2oD4"
      },
      "execution_count": 8,
      "outputs": []
    },
    {
      "cell_type": "code",
      "source": [
        "l = [ 7,99,12,9,11,3 ]\n",
        "l = (insertion_sort(l))\n",
        "print(l)"
      ],
      "metadata": {
        "colab": {
          "base_uri": "https://localhost:8080/"
        },
        "id": "e364YLfd5YKZ",
        "outputId": "38bc18a6-dfab-4557-bb06-c695aa383585"
      },
      "execution_count": 9,
      "outputs": [
        {
          "output_type": "stream",
          "name": "stdout",
          "text": [
            "[3, 7, 9, 11, 12, 99]\n"
          ]
        }
      ]
    },
    {
      "cell_type": "code",
      "source": [],
      "metadata": {
        "id": "hSX5UGSYEkbs"
      },
      "execution_count": null,
      "outputs": []
    }
  ],
  "metadata": {
    "colab": {
      "provenance": []
    },
    "kernelspec": {
      "display_name": "Python 3",
      "name": "python3"
    },
    "language_info": {
      "name": "python"
    }
  },
  "nbformat": 4,
  "nbformat_minor": 0
}