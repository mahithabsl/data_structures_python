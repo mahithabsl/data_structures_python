{
  "cells": [
    {
      "cell_type": "code",
      "source": [
        "def gcd(a,b):\n",
        "  if a==0:\n",
        "    return b\n",
        "  else:\n",
        "    return gcd( b%a,a)\n",
        "\n",
        "print(gcd(6,10))\n",
        "print(gcd(10,6))\n",
        "print(gcd(0,7))\n",
        "print(gcd(1,5))\n",
        "print(gcd(12,60))"
      ],
      "metadata": {
        "colab": {
          "base_uri": "https://localhost:8080/"
        },
        "id": "F8l2v9we_0CR",
        "outputId": "3ab2f622-0c72-4a99-fc07-6167cf331387"
      },
      "execution_count": 2,
      "outputs": [
        {
          "output_type": "stream",
          "name": "stdout",
          "text": [
            "2\n",
            "2\n",
            "7\n",
            "1\n",
            "12\n"
          ]
        }
      ]
    },
    {
      "cell_type": "code",
      "source": [
        "a = 12\n",
        "b = 60\n",
        "lcm = a*b/ (gcd(a,b))\n",
        "lcm"
      ],
      "metadata": {
        "colab": {
          "base_uri": "https://localhost:8080/"
        },
        "id": "agePBXS7APUy",
        "outputId": "45837111-ef1d-40df-fcbc-28a0cccf7196"
      },
      "execution_count": 6,
      "outputs": [
        {
          "output_type": "execute_result",
          "data": {
            "text/plain": [
              "60.0"
            ]
          },
          "metadata": {},
          "execution_count": 6
        }
      ]
    },
    {
      "cell_type": "code",
      "source": [],
      "metadata": {
        "id": "gtofIJF6AWR6"
      },
      "execution_count": null,
      "outputs": []
    }
  ],
  "metadata": {
    "colab": {
      "provenance": []
    },
    "kernelspec": {
      "display_name": "Python 3",
      "name": "python3"
    },
    "language_info": {
      "name": "python"
    }
  },
  "nbformat": 4,
  "nbformat_minor": 0
}