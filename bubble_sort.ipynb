{
  "cells": [
    {
      "cell_type": "code",
      "source": [
        "def bubble_sort(l):\n",
        "  for i in range(len(l)-1):\n",
        "    swapped =False\n",
        "    for j in range(len(l)-i-1):\n",
        "      if l[j] > l[j+1]:\n",
        "        l[j], l[j+1] = l[j+1], l[j]\n",
        "        swapped = True\n",
        "\n",
        "    if swapped ==False:\n",
        "      break\n",
        "  return l\n"
      ],
      "metadata": {
        "id": "OlDd2j3I2oD4"
      },
      "execution_count": 4,
      "outputs": []
    },
    {
      "cell_type": "code",
      "source": [
        "l = [ 7,99,12,9,11,3 ]\n",
        "l = (bubble_sort(l))\n",
        "print(l)"
      ],
      "metadata": {
        "colab": {
          "base_uri": "https://localhost:8080/"
        },
        "id": "e364YLfd5YKZ",
        "outputId": "d4ce8575-fe59-4335-b736-7696cf1a6562"
      },
      "execution_count": 5,
      "outputs": [
        {
          "output_type": "stream",
          "name": "stdout",
          "text": [
            "[3, 7, 9, 11, 12, 99]\n"
          ]
        }
      ]
    },
    {
      "cell_type": "code",
      "source": [],
      "metadata": {
        "id": "hSX5UGSYEkbs"
      },
      "execution_count": null,
      "outputs": []
    }
  ],
  "metadata": {
    "colab": {
      "provenance": []
    },
    "kernelspec": {
      "display_name": "Python 3",
      "name": "python3"
    },
    "language_info": {
      "name": "python"
    }
  },
  "nbformat": 4,
  "nbformat_minor": 0
}