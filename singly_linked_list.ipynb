{
  "cells": [
    {
      "cell_type": "code",
      "source": [
        "# Singly linked list\n",
        "class Node:\n",
        "    def __init__(self,data):\n",
        "        self.data = data\n",
        "        self.next = None\n",
        "\n",
        "class LinkedList:\n",
        "    def __init__(self):\n",
        "        self.head = None\n",
        "\n",
        "    def printList(self):\n",
        "        if self.head==None:\n",
        "            print('List is empty')\n",
        "        else:\n",
        "          print('List elements:')\n",
        "          print('*****')\n",
        "          temp = self.head\n",
        "          while temp:\n",
        "              print(temp.data, end = ' -> ')\n",
        "              temp =temp.next\n",
        "          print('Null')\n",
        "          return\n",
        "\n",
        "    def nodeCount(self):\n",
        "      if self.head == None:\n",
        "        return 0\n",
        "      else:\n",
        "        c = 0\n",
        "        temp = self.head\n",
        "        while temp!= None:\n",
        "          c = c+1\n",
        "          temp = temp.next\n",
        "        return c\n",
        "\n",
        "\n",
        "    def insertBeginning(self,data):\n",
        "        newnode = Node(data)\n",
        "        newnode.next = self.head\n",
        "        self.head = newnode\n",
        "        print('Inserted',data ,'at the beginning')\n",
        "\n",
        "\n",
        "    def insertEnd(self,data):\n",
        "        if self.head == None:\n",
        "          print('List is empty')\n",
        "          self.insertBeginning(data)\n",
        "          print('Inserted',data ,'at the beginning')\n",
        "        else:\n",
        "          print('List is not empty')\n",
        "          newnode = Node(data)\n",
        "          temp = self.head\n",
        "          while temp.next!=None:\n",
        "            temp = temp.next\n",
        "          temp.next = newnode\n",
        "        print('Inserted',data,'at the end')\n",
        "\n",
        "    def insertIndex(self, data, pos):\n",
        "        if self.head == None or pos == 0:\n",
        "          self.insertBeginning(data)\n",
        "          return\n",
        "\n",
        "        temp = self.head\n",
        "        c = 1\n",
        "        flag = 0\n",
        "\n",
        "        while temp!=None:\n",
        "          if c==pos:\n",
        "            flag = 1\n",
        "            newnode = Node(data)\n",
        "            newnode.next = temp.next\n",
        "            temp.next = newnode\n",
        "          c=c+1\n",
        "          temp = temp.next\n",
        "\n",
        "        if flag ==0:\n",
        "          print('Index ', pos,' not presented in the list')\n",
        "\n",
        "    def updateIndex(self,value,pos):\n",
        "        if self.head==None:\n",
        "          print('List is empty')\n",
        "          return\n",
        "        temp = self.head\n",
        "        c = 0\n",
        "        flag=0\n",
        "        while temp!=None:\n",
        "          if c==pos:\n",
        "            flag = 1\n",
        "            temp.data = value\n",
        "            print('Updated',pos,'with value', value)\n",
        "            return\n",
        "          c=c+1\n",
        "          temp = temp.next\n",
        "\n",
        "        if flag ==0:\n",
        "          print('Index ', pos,' not presented in the list')\n",
        "\n",
        "    def deleteBeginning(self):\n",
        "      if self.head == None:\n",
        "        print('List is empty, nothing to delete')\n",
        "        return\n",
        "\n",
        "      if self.head.next == None:\n",
        "        print('Deleted the only item')\n",
        "        self.head = None\n",
        "        return\n",
        "\n",
        "      self.head = self.head.next\n",
        "      print('deleted start item')\n",
        "\n",
        "    def deleteEnd(self):\n",
        "      if self.head == None:\n",
        "        print('List is empty, nothing to delete')\n",
        "        return\n",
        "\n",
        "      if self.head.next == None or pos==0:\n",
        "        print('Deleted the only item')\n",
        "        self.head = None\n",
        "        return\n",
        "\n",
        "      temp = self.head\n",
        "      while temp.next.next!=None:\n",
        "        temp =temp.next\n",
        "      temp.next = None\n",
        "      print('deleted last item')\n",
        "\n",
        "    def deleteIndex(self,pos):\n",
        "      if self.head == None:\n",
        "        print('List is empty, nothing to delete')\n",
        "        return\n",
        "\n",
        "      if self.head.next == None or pos==0:\n",
        "        self.deleteBeginning()\n",
        "\n",
        "      temp = self.head\n",
        "      c =1\n",
        "      flag = 0\n",
        "\n",
        "      while temp!=None:\n",
        "        if c==pos:\n",
        "          if temp.next==None:\n",
        "            print('Index ', pos,' not presented in the list')\n",
        "            return\n",
        "          flag = 1\n",
        "          temp.next = temp.next.next\n",
        "        c = c+1\n",
        "        temp = temp.next\n",
        "\n",
        "      if flag ==0:\n",
        "          print('Index ', pos,' not presented in the list')\n",
        "\n",
        "    def deleteData(self,value):\n",
        "      temp = self.head\n",
        "      if temp.data == value:\n",
        "        self.head =None\n",
        "        return\n",
        "\n",
        "      while temp!= None:\n",
        "        if temp.next.data == value:\n",
        "          temp.next = temp.next.next\n",
        "          return\n",
        "        temp = temp.next\n",
        "\n",
        "    def reverseList(self):\n",
        "      if self.head == None or self.head.next==None:\n",
        "        self.printList()\n",
        "        return\n",
        "\n",
        "      prev = None\n",
        "      curr = self.head\n",
        "      while curr!= None:\n",
        "        next_node = curr.next\n",
        "\n",
        "        curr.next = prev\n",
        "        prev = curr\n",
        "        curr = next_node\n",
        "      self.head = prev\n",
        "\n",
        "\n"
      ],
      "metadata": {
        "id": "t3XMozquea4s"
      },
      "execution_count": null,
      "outputs": []
    },
    {
      "cell_type": "code",
      "source": [
        "obj = LinkedList()\n",
        "obj.printList()"
      ],
      "metadata": {
        "colab": {
          "base_uri": "https://localhost:8080/"
        },
        "id": "D8NTyDnwea7G",
        "outputId": "a304d9f9-1b83-4f06-f0f2-35c40fc2f77b"
      },
      "execution_count": null,
      "outputs": [
        {
          "output_type": "stream",
          "name": "stdout",
          "text": [
            "List is empty\n"
          ]
        }
      ]
    },
    {
      "cell_type": "code",
      "source": [
        "obj.insertBeginning('3')\n",
        "obj.insertBeginning('2')\n",
        "obj.insertBeginning('1')\n",
        "obj.printList()"
      ],
      "metadata": {
        "colab": {
          "base_uri": "https://localhost:8080/"
        },
        "id": "E2NnN6ldevjt",
        "outputId": "cd0d366f-4c66-4c2d-a2cb-2b9011b11ed8"
      },
      "execution_count": null,
      "outputs": [
        {
          "output_type": "stream",
          "name": "stdout",
          "text": [
            "Inserted 3 at the beginning\n",
            "Inserted 2 at the beginning\n",
            "Inserted 1 at the beginning\n",
            "List elements:\n",
            "*****\n",
            "1 -> 2 -> 3 -> Null\n"
          ]
        }
      ]
    },
    {
      "cell_type": "code",
      "source": [
        "obj.reverseList()\n",
        "obj.printList()"
      ],
      "metadata": {
        "colab": {
          "base_uri": "https://localhost:8080/"
        },
        "id": "bXqvdzYCUJAT",
        "outputId": "ff99be2e-6b2e-46a6-beb5-6924a28d9478"
      },
      "execution_count": null,
      "outputs": [
        {
          "output_type": "stream",
          "name": "stdout",
          "text": [
            "List elements:\n",
            "*****\n",
            "3 -> 2 -> 1 -> Null\n"
          ]
        }
      ]
    },
    {
      "cell_type": "code",
      "source": [
        "obj.deleteData('2')\n",
        "obj.printList()"
      ],
      "metadata": {
        "colab": {
          "base_uri": "https://localhost:8080/"
        },
        "id": "BQf8qQdcP0CS",
        "outputId": "a8d780ce-2cb2-4002-9cec-e0f0e061fba8"
      },
      "execution_count": null,
      "outputs": [
        {
          "output_type": "stream",
          "name": "stdout",
          "text": [
            "List elements:\n",
            "*****\n",
            "1 -> 3 -> 1 -> 2 -> 3 -> Null\n"
          ]
        }
      ]
    },
    {
      "cell_type": "code",
      "source": [
        "obj.deleteIndex(1)\n",
        "obj.printList()"
      ],
      "metadata": {
        "colab": {
          "base_uri": "https://localhost:8080/"
        },
        "id": "-dKruZbTCk5k",
        "outputId": "f2cfc929-b1af-4bc1-aca0-417e1250d78b"
      },
      "execution_count": null,
      "outputs": [
        {
          "output_type": "stream",
          "name": "stdout",
          "text": [
            "List elements:\n",
            "*****\n",
            "2 -> Null\n"
          ]
        }
      ]
    },
    {
      "cell_type": "code",
      "source": [
        "obj.deleteEnd()\n",
        "obj.printList()"
      ],
      "metadata": {
        "colab": {
          "base_uri": "https://localhost:8080/"
        },
        "id": "xyLLtLpW-Nl3",
        "outputId": "be480211-63f5-4241-fdef-aa0165a3920c"
      },
      "execution_count": null,
      "outputs": [
        {
          "output_type": "stream",
          "name": "stdout",
          "text": [
            "Deleted the only item\n",
            "List is empty\n"
          ]
        }
      ]
    },
    {
      "cell_type": "code",
      "source": [
        "obj.deleteBeginning()\n",
        "obj.printList()"
      ],
      "metadata": {
        "colab": {
          "base_uri": "https://localhost:8080/"
        },
        "id": "A8Mj_qjp9siH",
        "outputId": "1cf3ea10-9d22-4346-e9e1-9d80c4ae956c"
      },
      "execution_count": null,
      "outputs": [
        {
          "output_type": "stream",
          "name": "stdout",
          "text": [
            "deleted start item\n",
            "List elements:\n",
            "*****\n",
            "2 -> 3 -> Null\n"
          ]
        }
      ]
    },
    {
      "cell_type": "code",
      "source": [
        "obj.deleteEnd()\n",
        "obj.printList()"
      ],
      "metadata": {
        "colab": {
          "base_uri": "https://localhost:8080/"
        },
        "id": "bbzDUlwZ9BOY",
        "outputId": "9deff8b3-b591-48d1-be0a-4326a3afaa9d"
      },
      "execution_count": null,
      "outputs": [
        {
          "output_type": "stream",
          "name": "stdout",
          "text": [
            "deleted last item\n",
            "List elements:\n",
            "*****\n",
            "2 -> Null\n"
          ]
        }
      ]
    },
    {
      "cell_type": "code",
      "source": [
        "obj.deleteBeginning()\n",
        "obj.printList()"
      ],
      "metadata": {
        "colab": {
          "base_uri": "https://localhost:8080/"
        },
        "id": "KcX1zZ477fGI",
        "outputId": "0072c5a6-43c3-4409-b8d3-392392d3a743"
      },
      "execution_count": null,
      "outputs": [
        {
          "output_type": "stream",
          "name": "stdout",
          "text": [
            "List is empty, nothing to delete\n",
            "List is empty\n"
          ]
        }
      ]
    },
    {
      "cell_type": "code",
      "source": [
        "obj.nodeCount()"
      ],
      "metadata": {
        "colab": {
          "base_uri": "https://localhost:8080/"
        },
        "id": "HSQqUJqOs7u2",
        "outputId": "14194568-66a3-45c0-f8b7-1c80d4ecdaef"
      },
      "execution_count": null,
      "outputs": [
        {
          "output_type": "execute_result",
          "data": {
            "text/plain": [
              "3"
            ]
          },
          "metadata": {},
          "execution_count": 231
        }
      ]
    },
    {
      "cell_type": "code",
      "source": [
        "obj.insertEnd('-1')\n",
        "obj.printList()"
      ],
      "metadata": {
        "colab": {
          "base_uri": "https://localhost:8080/"
        },
        "id": "wVKwavzBjrGi",
        "outputId": "29723025-cedd-4a48-ce77-3dca3730489b"
      },
      "execution_count": null,
      "outputs": [
        {
          "output_type": "stream",
          "name": "stdout",
          "text": [
            "List is not empty\n",
            "Inserted -1 at the end\n",
            "List elements:\n",
            "*****\n",
            "1 -> 2 -> 3 -> -1 -> Null\n"
          ]
        }
      ]
    },
    {
      "cell_type": "code",
      "source": [
        "obj.insertIndex(89,2)\n",
        "obj.printList()"
      ],
      "metadata": {
        "colab": {
          "base_uri": "https://localhost:8080/"
        },
        "id": "tZUd7nsXwfK7",
        "outputId": "8cddf5af-dd91-4cd4-d881-d8a7ae02981d"
      },
      "execution_count": null,
      "outputs": [
        {
          "output_type": "stream",
          "name": "stdout",
          "text": [
            "List elements:\n",
            "*****\n",
            "1 -> 2 -> 89 -> 3 -> -1 -> Null\n"
          ]
        }
      ]
    },
    {
      "cell_type": "code",
      "source": [
        "obj.updateIndex(98,0)\n",
        "obj.printList()"
      ],
      "metadata": {
        "colab": {
          "base_uri": "https://localhost:8080/"
        },
        "id": "GlusK3Br2u0g",
        "outputId": "f4dd1e22-dcf5-42fb-e1fa-a0f382f40f4d"
      },
      "execution_count": null,
      "outputs": [
        {
          "output_type": "stream",
          "name": "stdout",
          "text": [
            "Updated 0 with value 98\n",
            "List elements:\n",
            "*****\n",
            "98 -> 98 -> 98 -> 98 -> -1 -> Null\n"
          ]
        }
      ]
    },
    {
      "cell_type": "code",
      "source": [
        "obj.printList()"
      ],
      "metadata": {
        "colab": {
          "base_uri": "https://localhost:8080/"
        },
        "id": "zYph--V4evmK",
        "outputId": "9a987c81-d0e3-4961-96db-dcb54beaf44b"
      },
      "execution_count": null,
      "outputs": [
        {
          "output_type": "stream",
          "name": "stdout",
          "text": [
            "List elements:\n",
            "*****\n",
            "98 -> 98 -> 98 -> 98 -> -1 -> Null\n"
          ]
        }
      ]
    },
    {
      "cell_type": "code",
      "source": [],
      "metadata": {
        "id": "yWEus0f5evoN"
      },
      "execution_count": null,
      "outputs": []
    }
  ],
  "metadata": {
    "colab": {
      "provenance": []
    },
    "kernelspec": {
      "display_name": "Python 3",
      "name": "python3"
    },
    "language_info": {
      "name": "python"
    }
  },
  "nbformat": 4,
  "nbformat_minor": 0
}