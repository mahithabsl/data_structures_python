{
  "cells": [
    {
      "cell_type": "code",
      "source": [
        "class stack:\n",
        "  def __init__(self,l):\n",
        "    self.l = l\n",
        "\n",
        "  def push(self,value):\n",
        "    self.l.append(value)\n",
        "    print('Pushed',value)\n",
        "\n",
        "  def pop(self):\n",
        "    if len(self.l):\n",
        "      popped_item = self.l.pop()\n",
        "      print('Deleted stack item', popped_item)\n",
        "    else:\n",
        "      print('No items in stack')\n",
        "\n",
        "  def isempty(self):\n",
        "    if len(self.l):\n",
        "      return 0\n",
        "    else:\n",
        "      return 1\n",
        "\n",
        "  def top(self):\n",
        "    return self.l[-1]\n",
        "\n",
        "  def printStack(self):\n",
        "    for item in self.l[::-1]:\n",
        "      print(item)\n",
        "\n",
        "  def lenStack(self):\n",
        "    return len(self.l)"
      ],
      "metadata": {
        "id": "rzmqsu9_TocZ"
      },
      "execution_count": 53,
      "outputs": []
    },
    {
      "cell_type": "code",
      "source": [
        "obj = stack([])\n",
        "obj.printStack()"
      ],
      "metadata": {
        "id": "ivnEk8ZRUCT_"
      },
      "execution_count": 54,
      "outputs": []
    },
    {
      "cell_type": "code",
      "source": [
        "obj.lenStack()"
      ],
      "metadata": {
        "colab": {
          "base_uri": "https://localhost:8080/"
        },
        "id": "ING7RdIpa350",
        "outputId": "33925de1-11bf-4664-e62f-f1623cdaf516"
      },
      "execution_count": 57,
      "outputs": [
        {
          "output_type": "execute_result",
          "data": {
            "text/plain": [
              "1"
            ]
          },
          "metadata": {},
          "execution_count": 57
        }
      ]
    },
    {
      "cell_type": "code",
      "source": [
        "obj.push(9)\n",
        "obj.printStack()"
      ],
      "metadata": {
        "colab": {
          "base_uri": "https://localhost:8080/"
        },
        "id": "Hr_OD4zmZ9l3",
        "outputId": "09796a68-dbe4-4316-ec2a-4393c334b232"
      },
      "execution_count": 56,
      "outputs": [
        {
          "output_type": "stream",
          "name": "stdout",
          "text": [
            "Pushed 9\n",
            "9\n"
          ]
        }
      ]
    },
    {
      "cell_type": "code",
      "source": [
        "obj.pop()"
      ],
      "metadata": {
        "colab": {
          "base_uri": "https://localhost:8080/"
        },
        "id": "0xN8kN6oaJKq",
        "outputId": "0a46960e-0550-4918-a3e8-e4650c760332"
      },
      "execution_count": 45,
      "outputs": [
        {
          "output_type": "stream",
          "name": "stdout",
          "text": [
            "Deleted stack item 3\n"
          ]
        }
      ]
    },
    {
      "cell_type": "code",
      "source": [
        "obj.isempty()"
      ],
      "metadata": {
        "colab": {
          "base_uri": "https://localhost:8080/"
        },
        "id": "cwwUcJFmarGK",
        "outputId": "d4c663a9-6fc1-49ee-d530-bbb9f4520b7c"
      },
      "execution_count": 46,
      "outputs": [
        {
          "output_type": "execute_result",
          "data": {
            "text/plain": [
              "0"
            ]
          },
          "metadata": {},
          "execution_count": 46
        }
      ]
    },
    {
      "cell_type": "code",
      "source": [
        "obj.top()"
      ],
      "metadata": {
        "colab": {
          "base_uri": "https://localhost:8080/"
        },
        "id": "7VAP2R3yaurg",
        "outputId": "8a2da6c6-3b9a-4af0-ad52-15e413e4d897"
      },
      "execution_count": 47,
      "outputs": [
        {
          "output_type": "execute_result",
          "data": {
            "text/plain": [
              "8"
            ]
          },
          "metadata": {},
          "execution_count": 47
        }
      ]
    },
    {
      "cell_type": "code",
      "source": [],
      "metadata": {
        "id": "x_xgliYlav2F"
      },
      "execution_count": null,
      "outputs": []
    }
  ],
  "metadata": {
    "colab": {
      "provenance": []
    },
    "kernelspec": {
      "display_name": "Python 3",
      "name": "python3"
    },
    "language_info": {
      "name": "python"
    }
  },
  "nbformat": 4,
  "nbformat_minor": 0
}