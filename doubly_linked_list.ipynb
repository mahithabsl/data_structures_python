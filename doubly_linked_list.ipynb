{
  "cells": [
    {
      "cell_type": "code",
      "source": [
        "# doubly linked list\n",
        "class Node:\n",
        "  def __init__(self, data):\n",
        "    self.data = data\n",
        "    self.prev = None\n",
        "    self.next = None\n",
        "\n",
        "class DoublyLinkedList:\n",
        "  def __init__(self):\n",
        "    self.head = None\n",
        "\n",
        "  def printList(self):\n",
        "    if self.head ==None:\n",
        "      print('List is empty')\n",
        "    else:\n",
        "      temp = self.head\n",
        "      while temp !=None:\n",
        "        print(temp.data,end=' -> ')\n",
        "        temp = temp.next\n",
        "      print('Null')\n",
        "\n",
        "  def insertBeginning(self, data):\n",
        "    newnode =  Node(data)\n",
        "    if self.head == None:\n",
        "      self.head = newnode\n",
        "\n",
        "    else:\n",
        "      self.head.prev = newnode\n",
        "      newnode.next = self.head\n",
        "      self.head = newnode\n",
        "\n",
        "  def insertEnd(self, data):\n",
        "    newnode =  Node(data)\n",
        "    if self.head == None:\n",
        "      print('List is empty')\n",
        "      self.insertBeginning(data)\n",
        "    else:\n",
        "      print('List is not empty')\n",
        "      curr = self.head\n",
        "      while curr.next!=None:\n",
        "        curr = curr.next\n",
        "      curr.next = newnode\n",
        "      newnode.prev = curr\n",
        "      print('Inserted',data,'at the end')\n",
        "\n",
        "  def insertIndex(self, data, index):\n",
        "    newnode =  Node(data)\n",
        "    if index==0:\n",
        "      self.insertBeginning(data)\n",
        "    else:\n",
        "      curr = self.head\n",
        "      c = 0\n",
        "      flag =0\n",
        "      while curr!=None:\n",
        "\n",
        "        if c+1 ==index:\n",
        "          flag = 1\n",
        "          newnode.prev = curr\n",
        "          newnode.next = curr.next\n",
        "          curr.next.prev = newnode\n",
        "          curr.next = newnode\n",
        "          break\n",
        "        curr = curr.next\n",
        "        c = c+1\n",
        "      if flag ==0:\n",
        "          print('Index ', index,' not presented in the list')\n",
        "\n",
        "  def nodeCount(self):\n",
        "      if self.head == None:\n",
        "        return 0\n",
        "      else:\n",
        "        c = 0\n",
        "        temp = self.head\n",
        "        while temp!= None:\n",
        "          c = c+1\n",
        "          temp = temp.next\n",
        "        return c\n",
        "\n",
        "  def deleteBeginning(self):\n",
        "    if self.head ==None:\n",
        "      print('Nothing to delete')\n",
        "    else:\n",
        "      self.head = self.head.next\n",
        "\n",
        "  def deleteEnd(self):\n",
        "    if self.head ==None:\n",
        "      print('Nothing to delete')\n",
        "    else:\n",
        "      curr = self.head\n",
        "      while curr.next!=None:\n",
        "        curr= curr.next\n",
        "      curr.prev.next = None\n",
        "\n",
        "\n",
        "  def deleteIndex(self, index):\n",
        "    if self.head ==None:\n",
        "      print('Nothing to delete')\n",
        "      return\n",
        "\n",
        "    if index==0:\n",
        "      self.deleteBeginning()\n",
        "      return\n",
        "\n",
        "    c = 0\n",
        "    flag = 0\n",
        "    curr = self.head\n",
        "    while curr!=None:\n",
        "\n",
        "      if c+1==index:\n",
        "        if curr.next.next == None:\n",
        "          self.deleteEnd()\n",
        "          return\n",
        "        flag = 1\n",
        "        curr.next.next.prev = curr\n",
        "        curr.next = curr.next.next\n",
        "\n",
        "      c=c+1\n",
        "      curr = curr.next\n",
        "\n",
        "    if flag ==0:\n",
        "          print('Index ', index,' not presented in the list')\n"
      ],
      "metadata": {
        "id": "xRaB6NTxWfKc"
      },
      "execution_count": null,
      "outputs": []
    },
    {
      "cell_type": "code",
      "source": [
        "obj = DoublyLinkedList()\n",
        "obj.printList()"
      ],
      "metadata": {
        "colab": {
          "base_uri": "https://localhost:8080/"
        },
        "id": "0xDKo8KKYAIh",
        "outputId": "5662708c-b9a7-4a17-fe88-8ba4b50e5a74"
      },
      "execution_count": null,
      "outputs": [
        {
          "output_type": "stream",
          "name": "stdout",
          "text": [
            "List is empty\n"
          ]
        }
      ]
    },
    {
      "cell_type": "code",
      "source": [
        "obj.insertBeginning('1')\n",
        "obj.insertBeginning('2')\n",
        "obj.insertBeginning('3')\n",
        "obj.printList()"
      ],
      "metadata": {
        "colab": {
          "base_uri": "https://localhost:8080/"
        },
        "id": "hiP_FVkhYALX",
        "outputId": "64fabae2-e3fe-4437-9495-f6a22e0a4505"
      },
      "execution_count": null,
      "outputs": [
        {
          "output_type": "stream",
          "name": "stdout",
          "text": [
            "3 -> 2 -> 1 -> 3 -> 2 -> Null\n"
          ]
        }
      ]
    },
    {
      "cell_type": "code",
      "source": [
        "obj.deleteEnd()\n",
        "obj.printList()"
      ],
      "metadata": {
        "colab": {
          "base_uri": "https://localhost:8080/"
        },
        "id": "4JO3vAYyNP2W",
        "outputId": "72a9dc8f-47ca-4658-a72d-751340c6cf12"
      },
      "execution_count": null,
      "outputs": [
        {
          "output_type": "stream",
          "name": "stdout",
          "text": [
            "3 -> 2 -> Null\n"
          ]
        }
      ]
    },
    {
      "cell_type": "code",
      "source": [
        "obj.deleteIndex(4)\n",
        "obj.printList()"
      ],
      "metadata": {
        "colab": {
          "base_uri": "https://localhost:8080/"
        },
        "id": "ov9J7cjOoBhI",
        "outputId": "ca591da2-1e28-4382-cca1-3224a35da4dc"
      },
      "execution_count": null,
      "outputs": [
        {
          "output_type": "stream",
          "name": "stdout",
          "text": [
            "3 -> 2 -> 1 -> 3 -> Null\n"
          ]
        }
      ]
    },
    {
      "cell_type": "code",
      "source": [
        "obj.insertEnd('4')\n",
        "obj.printList()"
      ],
      "metadata": {
        "colab": {
          "base_uri": "https://localhost:8080/"
        },
        "id": "7wHJ70osWgKG",
        "outputId": "8ce387c1-0ea8-4194-c4ef-f43e169dcae9"
      },
      "execution_count": null,
      "outputs": [
        {
          "output_type": "stream",
          "name": "stdout",
          "text": [
            "List is not empty\n",
            "Inserted 4 at the end\n",
            "3 -> 2 -> 1 -> 4 -> Null\n"
          ]
        }
      ]
    },
    {
      "cell_type": "code",
      "source": [
        "obj.deleteIndex(2)\n",
        "obj.printList()"
      ],
      "metadata": {
        "colab": {
          "base_uri": "https://localhost:8080/"
        },
        "id": "R2Ph-WDyLCh6",
        "outputId": "aae8df97-1229-4ee2-bf30-cf50c1f1e4aa"
      },
      "execution_count": null,
      "outputs": [
        {
          "output_type": "stream",
          "name": "stdout",
          "text": [
            "3 -> 2 -> 3 -> Null\n"
          ]
        }
      ]
    },
    {
      "cell_type": "code",
      "source": [
        "obj.deleteBeginning()\n",
        "obj.printList()"
      ],
      "metadata": {
        "colab": {
          "base_uri": "https://localhost:8080/"
        },
        "id": "eo8PfBYsnvty",
        "outputId": "69c582a1-aa0d-428c-f10c-35282e47c278"
      },
      "execution_count": null,
      "outputs": [
        {
          "output_type": "stream",
          "name": "stdout",
          "text": [
            "1 -> 4 -> Null\n"
          ]
        }
      ]
    },
    {
      "cell_type": "code",
      "source": [],
      "metadata": {
        "id": "ZrMjvMFenxEn"
      },
      "execution_count": null,
      "outputs": []
    },
    {
      "cell_type": "code",
      "source": [
        "obj.insertIndex('9',1)\n",
        "obj.printList()"
      ],
      "metadata": {
        "colab": {
          "base_uri": "https://localhost:8080/"
        },
        "id": "VdDMOQt-WgMm",
        "outputId": "2430b9d8-5dd2-4f09-b080-1f2fd8375c9c"
      },
      "execution_count": null,
      "outputs": [
        {
          "output_type": "stream",
          "name": "stdout",
          "text": [
            "9 -> 9 -> 4 -> Null\n"
          ]
        }
      ]
    }
  ],
  "metadata": {
    "colab": {
      "provenance": []
    },
    "kernelspec": {
      "display_name": "Python 3",
      "name": "python3"
    },
    "language_info": {
      "name": "python"
    }
  },
  "nbformat": 4,
  "nbformat_minor": 0
}