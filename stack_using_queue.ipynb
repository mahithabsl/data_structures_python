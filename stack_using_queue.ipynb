{
  "cells": [
    {
      "cell_type": "code",
      "execution_count": 44,
      "metadata": {
        "id": "-NxvN0Hir243"
      },
      "outputs": [],
      "source": [
        "from collections import deque\n",
        "\n",
        "class stackUsingQueue:\n",
        "  def __init__(self):\n",
        "    self.q = deque()\n",
        "\n",
        "  def push(self,data):\n",
        "    n = len(self.q)\n",
        "    self.q.append(data)\n",
        "    for i in range(n):\n",
        "      self.q.append(self.q.popleft())\n",
        "\n",
        "  def top(self):\n",
        "    if self.q:\n",
        "      print(self.q[-1])\n",
        "    else:\n",
        "      print('stack underflow')\n",
        "\n",
        "  def pop(self):\n",
        "    if len(self.q)==0:\n",
        "      print('stack underflow')\n",
        "    else:\n",
        "      popped = self.q.popleft()\n",
        "      # print('Element popped', popped)\n",
        "\n",
        "  def printStack(self):\n",
        "    for i in range(len(self.q)):\n",
        "      print(self.q[i])"
      ]
    },
    {
      "cell_type": "code",
      "execution_count": 45,
      "metadata": {
        "id": "LpKRSvBm0VZM"
      },
      "outputs": [],
      "source": [
        "obj = stackUsingQueue()"
      ]
    },
    {
      "cell_type": "code",
      "execution_count": 46,
      "metadata": {
        "colab": {
          "base_uri": "https://localhost:8080/"
        },
        "id": "YGH_ujlr0Vbx",
        "outputId": "cd58a8a3-2039-473b-8119-444fcb8577c0"
      },
      "outputs": [
        {
          "name": "stdout",
          "output_type": "stream",
          "text": [
            "3\n",
            "2\n",
            "1\n"
          ]
        }
      ],
      "source": [
        "obj.push(1)\n",
        "obj.push(2)\n",
        "obj.push(3)\n",
        "obj.printStack()"
      ]
    },
    {
      "cell_type": "code",
      "execution_count": 48,
      "metadata": {
        "colab": {
          "base_uri": "https://localhost:8080/"
        },
        "id": "FWFS9SBx1ZVv",
        "outputId": "056f4b1f-6337-4615-eb83-79db2e55dc39"
      },
      "outputs": [
        {
          "name": "stdout",
          "output_type": "stream",
          "text": [
            "1\n"
          ]
        }
      ],
      "source": [
        "obj.pop()\n",
        "obj.printStack()"
      ]
    },
    {
      "cell_type": "code",
      "execution_count": 49,
      "metadata": {
        "colab": {
          "base_uri": "https://localhost:8080/"
        },
        "id": "VO4e0Cl10VeU",
        "outputId": "5b362441-9f90-4eae-8465-69856efe0a79"
      },
      "outputs": [
        {
          "name": "stdout",
          "output_type": "stream",
          "text": [
            "1\n"
          ]
        }
      ],
      "source": [
        "obj.top()"
      ]
    }
  ],
  "metadata": {
    "colab": {
      "provenance": []
    },
    "kernelspec": {
      "display_name": "Python 3",
      "name": "python3"
    },
    "language_info": {
      "name": "python"
    }
  },
  "nbformat": 4,
  "nbformat_minor": 0
}
