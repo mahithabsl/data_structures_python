{
  "cells": [
    {
      "cell_type": "code",
      "source": [
        "class Node:\n",
        "  def __init__(self,data):\n",
        "    self.data = data\n",
        "    self.next = None\n",
        "\n",
        "class Queue:\n",
        "  def __init__(self):\n",
        "    self.front = None\n",
        "    self.rear = None\n",
        "\n",
        "  def isempty(self):\n",
        "    if self.rear ==None:\n",
        "      return 1\n",
        "    else:\n",
        "      return 0\n",
        "\n",
        "\n",
        "  def enqueue(self, data):\n",
        "    newnode = Node(data)\n",
        "    if self.isempty():\n",
        "      self.front = newnode\n",
        "      self.rear = newnode\n",
        "      print('Added the only item')\n",
        "      return\n",
        "\n",
        "    self.rear.next = newnode\n",
        "    self.rear = newnode\n",
        "\n",
        "\n",
        "  def dequeue(self):\n",
        "    if self.front==None:\n",
        "      print('Queue is empty, nothing to delete')\n",
        "\n",
        "    elif self.front.next==None:\n",
        "      print('Deleted the only item')\n",
        "      self.front = self.rear = None\n",
        "\n",
        "    else:\n",
        "      self.front = self.front.next\n",
        "\n",
        "  def printQueue(self):\n",
        "    curr = self.front\n",
        "    while curr!=self.rear:\n",
        "      print(curr.data)\n",
        "      curr = curr.next\n",
        "    print(curr.data)\n",
        "\n",
        "  def printFrontRear(self):\n",
        "    print(self.front.data)\n",
        "    print(self.rear.data)"
      ],
      "metadata": {
        "id": "gtofIJF6AWR6"
      },
      "execution_count": 30,
      "outputs": []
    },
    {
      "cell_type": "code",
      "source": [
        "obj = Queue()"
      ],
      "metadata": {
        "id": "7Ct--P0Acr2l"
      },
      "execution_count": 38,
      "outputs": []
    },
    {
      "cell_type": "code",
      "source": [
        "obj.enqueue(12)\n",
        "obj.enqueue(13)\n",
        "obj.enqueue(14)\n",
        "obj.enqueue(15)\n",
        "obj.printQueue()"
      ],
      "metadata": {
        "colab": {
          "base_uri": "https://localhost:8080/"
        },
        "id": "oZUmVfY6cvwY",
        "outputId": "502fad44-b59a-4b72-c331-aed32bb09c32"
      },
      "execution_count": 39,
      "outputs": [
        {
          "output_type": "stream",
          "name": "stdout",
          "text": [
            "Added the only item\n",
            "12\n",
            "13\n",
            "14\n",
            "15\n"
          ]
        }
      ]
    },
    {
      "cell_type": "code",
      "source": [
        "obj.dequeue()\n",
        "obj.printQueue()"
      ],
      "metadata": {
        "colab": {
          "base_uri": "https://localhost:8080/"
        },
        "id": "zy0H6gqKe1t3",
        "outputId": "dfaccba3-ef8e-4a4f-a52b-897d6264df7e"
      },
      "execution_count": 40,
      "outputs": [
        {
          "output_type": "stream",
          "name": "stdout",
          "text": [
            "13\n",
            "14\n",
            "15\n"
          ]
        }
      ]
    },
    {
      "cell_type": "code",
      "source": [
        "obj.isempty()"
      ],
      "metadata": {
        "colab": {
          "base_uri": "https://localhost:8080/"
        },
        "id": "8t7VhfFKh3i2",
        "outputId": "482c456c-9ab5-4b79-a0fa-d75106f49fe2"
      },
      "execution_count": 41,
      "outputs": [
        {
          "output_type": "execute_result",
          "data": {
            "text/plain": [
              "0"
            ]
          },
          "metadata": {},
          "execution_count": 41
        }
      ]
    },
    {
      "cell_type": "code",
      "source": [
        "obj.printFrontRear()"
      ],
      "metadata": {
        "colab": {
          "base_uri": "https://localhost:8080/"
        },
        "id": "aJDboM1dh7KE",
        "outputId": "39454a36-52e3-4332-f4df-4758d1cb2387"
      },
      "execution_count": 42,
      "outputs": [
        {
          "output_type": "stream",
          "name": "stdout",
          "text": [
            "13\n",
            "15\n"
          ]
        }
      ]
    },
    {
      "cell_type": "code",
      "source": [],
      "metadata": {
        "id": "Vf3C2pZ8iTpd"
      },
      "execution_count": null,
      "outputs": []
    }
  ],
  "metadata": {
    "colab": {
      "provenance": []
    },
    "kernelspec": {
      "display_name": "Python 3",
      "name": "python3"
    },
    "language_info": {
      "name": "python"
    }
  },
  "nbformat": 4,
  "nbformat_minor": 0
}