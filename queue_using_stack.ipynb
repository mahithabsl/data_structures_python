{
  "cells": [
    {
      "cell_type": "code",
      "source": [
        "class queueUsingStack:\n",
        "  def __init__(self):\n",
        "    self.l =[]\n",
        "\n",
        "  def enqueue(self,data):\n",
        "    self.l.append(data)\n",
        "\n",
        "  def dequeue(self):\n",
        "    if len(self.l)==0:\n",
        "      print('Queue underflow')\n",
        "      return\n",
        "    n = len(self.l)\n",
        "    temp = self.l[0]\n",
        "    self.l = self.l[1:]\n",
        "\n",
        "  def top(self):\n",
        "    if len(self.l)==0:\n",
        "      print('Queue underflow')\n",
        "      return\n",
        "    else:\n",
        "      return self.l[0]\n",
        "\n",
        "  def printQueue(self):\n",
        "    for i in self.l:\n",
        "      print(i)\n"
      ],
      "metadata": {
        "id": "JOx62QTi0Vg_"
      },
      "execution_count": 129,
      "outputs": []
    },
    {
      "cell_type": "code",
      "source": [
        "obj = queueUsingStack()"
      ],
      "metadata": {
        "id": "PVn_jC8P3hzS"
      },
      "execution_count": 130,
      "outputs": []
    },
    {
      "cell_type": "code",
      "source": [
        "obj.enqueue(1)\n",
        "obj.enqueue(2)\n",
        "obj.enqueue(3)\n",
        "obj.printQueue()"
      ],
      "metadata": {
        "colab": {
          "base_uri": "https://localhost:8080/"
        },
        "id": "7lcei4JJ3j9W",
        "outputId": "182d6936-1932-4c5f-b790-18951d0990a4"
      },
      "execution_count": 131,
      "outputs": [
        {
          "output_type": "stream",
          "name": "stdout",
          "text": [
            "1\n",
            "2\n",
            "3\n"
          ]
        }
      ]
    },
    {
      "cell_type": "code",
      "source": [
        "obj.dequeue()\n",
        "obj.printQueue()"
      ],
      "metadata": {
        "colab": {
          "base_uri": "https://localhost:8080/"
        },
        "id": "VN18M4jF3orp",
        "outputId": "9ccab49f-e3dd-4f92-f19b-1dfc61c9717e"
      },
      "execution_count": 138,
      "outputs": [
        {
          "output_type": "stream",
          "name": "stdout",
          "text": [
            "Queue underflow\n"
          ]
        }
      ]
    },
    {
      "cell_type": "code",
      "source": [
        "obj.printQueue()"
      ],
      "metadata": {
        "colab": {
          "base_uri": "https://localhost:8080/"
        },
        "id": "3fJjldFw7x5B",
        "outputId": "74e340bc-4f2a-4584-95d7-908c09b6eb9f"
      },
      "execution_count": 134,
      "outputs": [
        {
          "output_type": "stream",
          "name": "stdout",
          "text": [
            "2\n",
            "3\n"
          ]
        }
      ]
    }
  ],
  "metadata": {
    "colab": {
      "provenance": []
    },
    "kernelspec": {
      "display_name": "Python 3",
      "name": "python3"
    },
    "language_info": {
      "name": "python"
    }
  },
  "nbformat": 4,
  "nbformat_minor": 0
}