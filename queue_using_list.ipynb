{
  "cells": [
    {
      "cell_type": "code",
      "source": [
        "class queue:\n",
        "  def __init__(self,l):\n",
        "    self.l = l\n",
        "\n",
        "  def push(self,value):\n",
        "    self.l.append(value)\n",
        "    print('Inserted',value, 'in queue')\n",
        "\n",
        "  def pop(self):\n",
        "    if not len(self.l):\n",
        "      print('queue underflow')\n",
        "      return\n",
        "    popped_value = self.l.pop(0)\n",
        "    print('deleted value', popped_value)\n",
        "\n",
        "  def printQueue(self):\n",
        "    print('Queue elements')\n",
        "    for i in self.l:\n",
        "      print(i)\n",
        ""
      ],
      "metadata": {
        "id": "e364YLfd5YKZ"
      },
      "execution_count": 63,
      "outputs": []
    },
    {
      "cell_type": "code",
      "source": [
        "l = [3, 7, 9, 11, 12]\n",
        "obj = queue(l)"
      ],
      "metadata": {
        "id": "hSX5UGSYEkbs"
      },
      "execution_count": 64,
      "outputs": []
    },
    {
      "cell_type": "code",
      "source": [
        "obj.push(99)\n",
        "obj.printQueue()"
      ],
      "metadata": {
        "colab": {
          "base_uri": "https://localhost:8080/"
        },
        "id": "cxqL0oMSd5hp",
        "outputId": "ba5d812a-c4c0-45a9-ac78-490e81efd03b"
      },
      "execution_count": 65,
      "outputs": [
        {
          "output_type": "stream",
          "name": "stdout",
          "text": [
            "Inserted 99 in queue\n",
            "Queue elements\n",
            "3\n",
            "7\n",
            "9\n",
            "11\n",
            "12\n",
            "99\n"
          ]
        }
      ]
    },
    {
      "cell_type": "code",
      "source": [
        "obj.pop()\n",
        "obj.printQueue()"
      ],
      "metadata": {
        "colab": {
          "base_uri": "https://localhost:8080/"
        },
        "id": "CinLxLhqd56j",
        "outputId": "ae9580a7-2ee8-4f05-8500-86167fd28f88"
      },
      "execution_count": 66,
      "outputs": [
        {
          "output_type": "stream",
          "name": "stdout",
          "text": [
            "deleted value 3\n",
            "Queue elements\n",
            "7\n",
            "9\n",
            "11\n",
            "12\n",
            "99\n"
          ]
        }
      ]
    },
    {
      "cell_type": "code",
      "source": [
        "obj.pop()\n",
        "obj.printQueue()"
      ],
      "metadata": {
        "colab": {
          "base_uri": "https://localhost:8080/"
        },
        "id": "lj3h5cBZgAgW",
        "outputId": "141a56ea-c7d0-4790-e8a3-5dc62128f932"
      },
      "execution_count": 67,
      "outputs": [
        {
          "output_type": "stream",
          "name": "stdout",
          "text": [
            "deleted value 7\n",
            "Queue elements\n",
            "9\n",
            "11\n",
            "12\n",
            "99\n"
          ]
        }
      ]
    },
    {
      "cell_type": "code",
      "source": [
        "obj.push(100)"
      ],
      "metadata": {
        "colab": {
          "base_uri": "https://localhost:8080/"
        },
        "id": "YiZ23zMpgQCK",
        "outputId": "43d0a056-40e8-46ee-81c8-f8f9e07d8023"
      },
      "execution_count": 69,
      "outputs": [
        {
          "output_type": "stream",
          "name": "stdout",
          "text": [
            "Inserted 100 in queue\n"
          ]
        }
      ]
    },
    {
      "cell_type": "code",
      "source": [
        "obj.printQueue()"
      ],
      "metadata": {
        "colab": {
          "base_uri": "https://localhost:8080/"
        },
        "id": "cqTIRR4dgUZb",
        "outputId": "7a14c8cc-c854-4e10-c562-e93f1a30c3ba"
      },
      "execution_count": 70,
      "outputs": [
        {
          "output_type": "stream",
          "name": "stdout",
          "text": [
            "Queue elements\n",
            "9\n",
            "11\n",
            "12\n",
            "99\n",
            "100\n"
          ]
        }
      ]
    },
    {
      "cell_type": "code",
      "source": [],
      "metadata": {
        "id": "MvdP7tu8gWOb"
      },
      "execution_count": null,
      "outputs": []
    }
  ],
  "metadata": {
    "colab": {
      "provenance": []
    },
    "kernelspec": {
      "display_name": "Python 3",
      "name": "python3"
    },
    "language_info": {
      "name": "python"
    }
  },
  "nbformat": 4,
  "nbformat_minor": 0
}