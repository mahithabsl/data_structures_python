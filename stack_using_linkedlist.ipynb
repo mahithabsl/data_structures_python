{
  "cells": [
    {
      "cell_type": "code",
      "source": [
        "class Node:\n",
        "  def __init__(self,data):\n",
        "    self.data = data\n",
        "    self.next = None\n",
        "\n",
        "class stackLinkedList:\n",
        "  def __init__(self):\n",
        "    self.head = None\n",
        "\n",
        "  def push(self,value):\n",
        "    newnode = Node(value)\n",
        "    if not newnode:\n",
        "      print('Stack overflow')\n",
        "      return\n",
        "    newnode.next = self.head\n",
        "    self.head = newnode\n",
        "    print('Pushed',value)\n",
        "\n",
        "  def pop(self):\n",
        "    if self.head==None:\n",
        "      print('Stack underflow')\n",
        "      return -1\n",
        "    self.head = self.head.next\n",
        "    print('Popped item')\n",
        "\n",
        "  def isempty(self):\n",
        "    if self.head==None:\n",
        "      return 1\n",
        "    else:\n",
        "      return 0\n",
        "\n",
        "  def top(self):\n",
        "    if self.head==None:\n",
        "      print('Stack underflow')\n",
        "      return -1\n",
        "    return self.head.data\n",
        "\n",
        "  def printStack(self):\n",
        "    curr = self.head\n",
        "    while curr!=None:\n",
        "      print(curr.data, end=' -> ')\n",
        "      curr = curr.next\n",
        "    print('Null')\n",
        "\n",
        "  def lenStack(self):\n",
        "    curr = self.head\n",
        "    count = 0\n",
        "    while curr!=None:\n",
        "      count = count + 1\n",
        "      curr = curr.next\n",
        "    print(count)\n",
        ""
      ],
      "metadata": {
        "id": "rzmqsu9_TocZ"
      },
      "execution_count": 86,
      "outputs": []
    },
    {
      "cell_type": "code",
      "source": [
        "obj = stackLinkedList()\n",
        "obj.printStack()"
      ],
      "metadata": {
        "colab": {
          "base_uri": "https://localhost:8080/"
        },
        "id": "ivnEk8ZRUCT_",
        "outputId": "9367fe13-aeac-414c-cdd3-3931588de4ef"
      },
      "execution_count": 87,
      "outputs": [
        {
          "output_type": "stream",
          "name": "stdout",
          "text": [
            "Null\n"
          ]
        }
      ]
    },
    {
      "cell_type": "code",
      "source": [
        "obj.lenStack()"
      ],
      "metadata": {
        "colab": {
          "base_uri": "https://localhost:8080/"
        },
        "id": "ING7RdIpa350",
        "outputId": "042d0396-6c4f-4aaa-b319-04029a5ee842"
      },
      "execution_count": 88,
      "outputs": [
        {
          "output_type": "stream",
          "name": "stdout",
          "text": [
            "0\n"
          ]
        }
      ]
    },
    {
      "cell_type": "code",
      "source": [
        "obj.push(8)\n",
        "obj.printStack()"
      ],
      "metadata": {
        "colab": {
          "base_uri": "https://localhost:8080/"
        },
        "id": "Hr_OD4zmZ9l3",
        "outputId": "aa4bbbfc-12f9-4153-ef76-5e6a6a5e12c7"
      },
      "execution_count": 90,
      "outputs": [
        {
          "output_type": "stream",
          "name": "stdout",
          "text": [
            "Pushed 8\n",
            "8 -> 9 -> Null\n"
          ]
        }
      ]
    },
    {
      "cell_type": "code",
      "source": [
        "obj.pop()\n",
        "obj.printStack()"
      ],
      "metadata": {
        "colab": {
          "base_uri": "https://localhost:8080/"
        },
        "id": "0xN8kN6oaJKq",
        "outputId": "04ecc6d0-e803-4365-92f6-d34bcdf05540"
      },
      "execution_count": 91,
      "outputs": [
        {
          "output_type": "stream",
          "name": "stdout",
          "text": [
            "Popped item\n",
            "9 -> Null\n"
          ]
        }
      ]
    },
    {
      "cell_type": "code",
      "source": [
        "obj.isempty()"
      ],
      "metadata": {
        "colab": {
          "base_uri": "https://localhost:8080/"
        },
        "id": "cwwUcJFmarGK",
        "outputId": "1e347d10-b242-4f42-ce83-843dd1a62b88"
      },
      "execution_count": 92,
      "outputs": [
        {
          "output_type": "execute_result",
          "data": {
            "text/plain": [
              "0"
            ]
          },
          "metadata": {},
          "execution_count": 92
        }
      ]
    },
    {
      "cell_type": "code",
      "source": [
        "obj.top()"
      ],
      "metadata": {
        "colab": {
          "base_uri": "https://localhost:8080/"
        },
        "id": "7VAP2R3yaurg",
        "outputId": "6d7623f3-93fb-41ed-abf7-7cb8889ee8e9"
      },
      "execution_count": 93,
      "outputs": [
        {
          "output_type": "execute_result",
          "data": {
            "text/plain": [
              "9"
            ]
          },
          "metadata": {},
          "execution_count": 93
        }
      ]
    },
    {
      "cell_type": "code",
      "source": [],
      "metadata": {
        "id": "x_xgliYlav2F"
      },
      "execution_count": null,
      "outputs": []
    }
  ],
  "metadata": {
    "colab": {
      "provenance": []
    },
    "kernelspec": {
      "display_name": "Python 3",
      "name": "python3"
    },
    "language_info": {
      "name": "python"
    }
  },
  "nbformat": 4,
  "nbformat_minor": 0
}