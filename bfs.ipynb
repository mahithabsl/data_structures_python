{
  "cells": [
    {
      "cell_type": "code",
      "source": [
        "from collections import deque\n",
        "\n",
        "def bfs(graph,start):\n",
        "  visited = []\n",
        "  queue = deque([start])\n",
        "  while queue:\n",
        "    node = queue.popleft()\n",
        "    if node not in visited:\n",
        "      visited.append(node)\n",
        "      print(node)\n",
        "\n",
        "      for neighbor in graph[node]:\n",
        "        if neighbor not in visited:\n",
        "          queue.append(neighbor)\n"
      ],
      "metadata": {
        "id": "rzmqsu9_TocZ"
      },
      "execution_count": 24,
      "outputs": []
    },
    {
      "cell_type": "code",
      "source": [
        "# Define the decision tree as a dictionary\n",
        "graph = {\n",
        "    2:[0,3],\n",
        "    0:[2,1],\n",
        "    3:[3],\n",
        "    1:[2]\n",
        "}\n",
        "bfs(graph, 2)"
      ],
      "metadata": {
        "colab": {
          "base_uri": "https://localhost:8080/"
        },
        "id": "ivnEk8ZRUCT_",
        "outputId": "187c576e-98fc-4dbc-9c1f-6cf16c25309d"
      },
      "execution_count": 25,
      "outputs": [
        {
          "output_type": "stream",
          "name": "stdout",
          "text": [
            "2\n",
            "0\n",
            "3\n",
            "1\n"
          ]
        }
      ]
    }
  ],
  "metadata": {
    "colab": {
      "provenance": []
    },
    "kernelspec": {
      "display_name": "Python 3",
      "name": "python3"
    },
    "language_info": {
      "name": "python"
    }
  },
  "nbformat": 4,
  "nbformat_minor": 0
}